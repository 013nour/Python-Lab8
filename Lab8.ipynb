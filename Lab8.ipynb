{
 "cells": [
  {
   "cell_type": "markdown",
   "id": "8c28feb9-9911-489b-a913-e20f331f0f4a",
   "metadata": {},
   "source": [
    "Classes and Objects\n",
    "\n",
    "You are required to create two classes :-\n",
    "\n",
    "Product\n",
    "\n",
    "Each product has name.\n",
    "Each product has price.\n",
    "Each product has quantity.\n",
    "Function to update the quantity.\n",
    "Function to calculate the total price."
   ]
  },
  {
   "cell_type": "code",
   "execution_count": 37,
   "id": "98db861a-1057-4eec-b65d-f3607345c52c",
   "metadata": {
    "tags": []
   },
   "outputs": [],
   "source": [
    "class Product():\n",
    "    def __init__(self, name, price, quantity):\n",
    "        self.name = name\n",
    "        self.price = price\n",
    "        self.quantity = quantity\n",
    "        \n",
    "    def UpdateQuantity (self, quant):\n",
    "        self.quantity = quant\n",
    "        \n",
    "    def DisplaytProd(self):\n",
    "        print(\"Properties of the Product:\")\n",
    "        print(\"Name: \", self.name)\n",
    "        print(\"Price : \", self.price)\n",
    "        print(\"quantity : \", self.quantity)\n",
    "        print(\"Total Price : \", self.price * self.quantity )\n",
    "        \n",
    "    def TotalPrice (self): \n",
    "        return self.price * self.quantity\n",
    "    "
   ]
  },
  {
   "cell_type": "code",
   "execution_count": 39,
   "id": "9f19e848-2cba-4bea-8263-8e98bdff4a69",
   "metadata": {
    "tags": []
   },
   "outputs": [
    {
     "name": "stdout",
     "output_type": "stream",
     "text": [
      "60\n",
      "Properties of the Product:\n",
      "Name:  xy\n",
      "Price :  30\n",
      "quantity :  2\n",
      "Total Price :  60\n"
     ]
    }
   ],
   "source": [
    "prod = Product('xy', 30, 1)\n",
    "prod.UpdateQuantity(2)\n",
    "tot = prod.TotalPrice()\n",
    "print(tot)\n",
    "\n",
    "prod.DisplaytProd()"
   ]
  },
  {
   "cell_type": "markdown",
   "id": "e3413fa8-3817-472d-be9b-38e85ea3b063",
   "metadata": {},
   "source": [
    "Inventory\n",
    "\n",
    "The inventory has a \"empty dictionary\" of products.\n",
    "The keys are the name of products and the values are the products themself.\n",
    "Add new product function.\n",
    "Update an exsisting product function.\n",
    "Remove product function.\n",
    "Calculate the total price of the products function.\n",
    "\n",
    "Test your classes by creating three products and one inventory. Do not forget to use every function.\n",
    "\n",
    "Do not forget to handle errors and unexpected states."
   ]
  },
  {
   "cell_type": "code",
   "execution_count": 110,
   "id": "f537692c-6f0e-4f5a-ae4c-895a2cda52cd",
   "metadata": {
    "tags": []
   },
   "outputs": [],
   "source": [
    "class Inventory():\n",
    "    \n",
    "    def __init__(self):\n",
    "        self.products = {}\n",
    "        self.total = 0\n",
    "        \n",
    "    def AddProduct (self, name, price, quantity):\n",
    "        try:\n",
    "            self.products[name] = {'Name': name, \"price\": price, \"quantity\": quantity}\n",
    "            print(\"Product Added\")\n",
    "        except:\n",
    "            print(\"One or more paramter is missing\")\n",
    "        \n",
    "    def UpdateProducts (self, prodName, toBechanged, Newvalue):\n",
    "        try:\n",
    "            if toBechanged == 'price':\n",
    "                self.products[prodName][\"price\"] = Newvalue\n",
    "            elif toBechanged == 'quantity':\n",
    "                self.products[prodName][\"quantity\"] = Newvalue\n",
    "        except:\n",
    "            print(\"Product not Found!\")\n",
    "        \n",
    "    def RemoveProduct (self, name):\n",
    "        self.products.pop(name)\n",
    "        \n",
    "    def ProdTotalPrice (self): \n",
    "        try:\n",
    "            for i in self.products:\n",
    "                self.total += self.products[i][\"price\"] * self.products[i][\"quantity\"]\n",
    "            return self.total\n",
    "        except:\n",
    "            print(\"You Have not Added any Products!\")\n",
    "            \n",
    "    def Display (self):\n",
    "        try:\n",
    "            for i in self.products:\n",
    "                print(\"Properties of Product {} :\".format(self.products[i]['Name']))\n",
    "                print(\"Name: \", self.products[i]['Name'])\n",
    "                print(\"Price : \", self.products[i][\"price\"])\n",
    "                print(\"quantity : \", self.products[i][\"quantity\"])\n",
    "                print(\"-\"*10)\n",
    "        except:\n",
    "            print(\"You Have not Added any Products!\")"
   ]
  },
  {
   "cell_type": "code",
   "execution_count": 111,
   "id": "07e6b418-bf87-4aac-b270-1df15834cc10",
   "metadata": {
    "tags": []
   },
   "outputs": [
    {
     "name": "stdout",
     "output_type": "stream",
     "text": [
      "Product Added\n",
      "Product Added\n",
      "Product Added\n",
      "Properties of Product A :\n",
      "Name:  A\n",
      "Price :  10\n",
      "quantity :  1\n",
      "----------\n",
      "Properties of Product B :\n",
      "Name:  B\n",
      "Price :  20\n",
      "quantity :  2\n",
      "----------\n",
      "Properties of Product C :\n",
      "Name:  C\n",
      "Price :  30\n",
      "quantity :  3\n",
      "----------\n"
     ]
    }
   ],
   "source": [
    "inventory = Inventory()\n",
    "inventory.AddProduct('A', 10, 1)\n",
    "inventory.AddProduct('B', 20, 2)\n",
    "inventory.AddProduct('C', 30, 3)\n",
    "inventory.Display()"
   ]
  },
  {
   "cell_type": "code",
   "execution_count": 113,
   "id": "6919f47d-6349-4f39-b1c5-4aaa13ae203e",
   "metadata": {
    "tags": []
   },
   "outputs": [
    {
     "name": "stdout",
     "output_type": "stream",
     "text": [
      "Properties of Product A :\n",
      "Name:  A\n",
      "Price :  10\n",
      "quantity :  5\n",
      "----------\n",
      "Properties of Product B :\n",
      "Name:  B\n",
      "Price :  10\n",
      "quantity :  2\n",
      "----------\n",
      "Properties of Product C :\n",
      "Name:  C\n",
      "Price :  30\n",
      "quantity :  3\n",
      "----------\n",
      "Product not Found!\n"
     ]
    }
   ],
   "source": [
    "inventory.UpdateProducts('A','quantity' , 5)\n",
    "inventory.UpdateProducts('B','price' , 10)\n",
    "inventory.Display()\n",
    "inventory.UpdateProducts('AC','price' , 10)"
   ]
  },
  {
   "cell_type": "code",
   "execution_count": 114,
   "id": "3f6306b8-68ea-42d8-9ae5-a1c1fd9b3fba",
   "metadata": {
    "tags": []
   },
   "outputs": [
    {
     "name": "stdout",
     "output_type": "stream",
     "text": [
      "Properties of Product A :\n",
      "Name:  A\n",
      "Price :  10\n",
      "quantity :  5\n",
      "----------\n",
      "Properties of Product B :\n",
      "Name:  B\n",
      "Price :  10\n",
      "quantity :  2\n",
      "----------\n"
     ]
    }
   ],
   "source": [
    "inventory.RemoveProduct('C')\n",
    "inventory.Display()"
   ]
  },
  {
   "cell_type": "code",
   "execution_count": 115,
   "id": "abae211f-643e-4b6f-84f4-fb42e808e894",
   "metadata": {
    "tags": []
   },
   "outputs": [
    {
     "data": {
      "text/plain": [
       "70"
      ]
     },
     "execution_count": 115,
     "metadata": {},
     "output_type": "execute_result"
    }
   ],
   "source": [
    "inventory.ProdTotalPrice()"
   ]
  }
 ],
 "metadata": {
  "kernelspec": {
   "display_name": "Python 3 (ipykernel)",
   "language": "python",
   "name": "python3"
  },
  "language_info": {
   "codemirror_mode": {
    "name": "ipython",
    "version": 3
   },
   "file_extension": ".py",
   "mimetype": "text/x-python",
   "name": "python",
   "nbconvert_exporter": "python",
   "pygments_lexer": "ipython3",
   "version": "3.11.5"
  }
 },
 "nbformat": 4,
 "nbformat_minor": 5
}
